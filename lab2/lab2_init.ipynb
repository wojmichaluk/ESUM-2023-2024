{
 "cells": [
  {
   "cell_type": "markdown",
   "metadata": {
    "colab_type": "text",
    "id": "GjLwr7LHju9z"
   },
   "source": [
    "# Estimating object location from noisy radar echos"
   ]
  },
  {
   "cell_type": "code",
   "execution_count": null,
   "metadata": {
    "colab": {},
    "colab_type": "code",
    "collapsed": true,
    "id": "Y0Y7HX_yju91"
   },
   "outputs": [],
   "source": [
    "import numpy as np\n",
    "import matplotlib.pyplot as plt\n",
    "import mkl\n",
    "\n",
    "from IPython.display import display, HTML\n",
    "from matplotlib.animation import FuncAnimation\n",
    "\n",
    "np.random.seed(1234)\n",
    "mkl.set_num_threads(2)\n",
    "\n",
    "%matplotlib inline\n",
    "%config InlineBackend.figure_format = 'retina'\n",
    "plt.rcParams[\"figure.figsize\"] = [16, 9]"
   ]
  },
  {
   "cell_type": "markdown",
   "metadata": {},
   "source": [
    "## Usefull imports"
   ]
  },
  {
   "cell_type": "code",
   "execution_count": null,
   "metadata": {
    "collapsed": true
   },
   "outputs": [],
   "source": [
    "from scipy.stats import multivariate_normal as mvn\n",
    "from numpy.linalg import inv"
   ]
  },
  {
   "cell_type": "markdown",
   "metadata": {},
   "source": [
    "## Useful utility functions"
   ]
  },
  {
   "cell_type": "code",
   "execution_count": null,
   "metadata": {
    "collapsed": true
   },
   "outputs": [],
   "source": [
    "# Plot 'iso-densities' for MVN\n",
    "#   ax - axis for plotting,\n",
    "#   mu, Sigma - MVN parameters,\n",
    "#   observations - observations (data points) to mark on the plot,\n",
    "#   title - plot title.\n",
    "def plot_mvn(ax, mu, Sigma, observations = None, title = None,\n",
    "             xmin=-10, xmax=10, ymin=-10, ymax=10, grid_size = 100):\n",
    "    X = np.linspace(xmin, xmax, grid_size)\n",
    "    Y = np.linspace(ymin, ymax, grid_size)\n",
    "    X, Y = np.meshgrid(X, Y)\n",
    "    grid = np.vstack([X.flatten(), Y.flatten()]).T\n",
    "    \n",
    "    p = mvn(mu, Sigma)\n",
    "    density = p.pdf(grid).reshape((grid_size, grid_size))\n",
    "\n",
    "    ax.contour(X, Y, density, zorder=1)\n",
    "    \n",
    "    if observations is not None:\n",
    "        if len(observations.shape) == 1:\n",
    "            ox, oy = observations[0], observations[1]\n",
    "        else:\n",
    "            ox, oy = observations[:, 0], observations[:, 1]\n",
    "            \n",
    "        ax.scatter(ox, oy, s=100, c='r', marker='x', zorder=2)\n",
    "    \n",
    "    if title is not None:\n",
    "        ax.set_title(title)\n",
    "    \n",
    "    ax.axis('equal')\n",
    "    plt.show"
   ]
  },
  {
   "cell_type": "markdown",
   "metadata": {
    "colab_type": "text",
    "id": "HgspCXenju94"
   },
   "source": [
    "## Estimating object location from (one) noisy radar echo\n",
    "\n",
    "Our task is to estimate location of a stationary object from its radar echo.\n",
    "\n",
    "Assumptions:\n",
    "- radar plane is a $[-10, 10] \\times [-10, 10]$ rectangle,\n",
    "- radar echo gives us a noisy measurement of the true location,\n",
    "- the measurement noise is well modeled by a multivariate Gaussian with precision: `radar_echo_Prec`."
   ]
  },
  {
   "cell_type": "code",
   "execution_count": null,
   "metadata": {
    "collapsed": true
   },
   "outputs": [],
   "source": [
    "radar_echo_Sigma = np.array([[2, -1.5],\n",
    "                             [-1.5, 2]])\n",
    "\n",
    "radar_echo_Prec = inv(radar_echo_Sigma)"
   ]
  },
  {
   "cell_type": "markdown",
   "metadata": {},
   "source": [
    "For now, we have only one radar echo to work with. It is stored in: `radar_echo`.\n",
    "\n",
    "In the code below, `true_x` is the true location of the object on the radar plane. We imagine that we do not know this location (our task is to estimate it)."
   ]
  },
  {
   "cell_type": "code",
   "execution_count": null,
   "metadata": {
    "collapsed": true
   },
   "outputs": [],
   "source": [
    "true_x = np.array([5.0, 5.0])\n",
    "\n",
    "radar_echo = mvn.rvs(true_x, radar_echo_Sigma, size=1, random_state=1234)"
   ]
  },
  {
   "cell_type": "markdown",
   "metadata": {},
   "source": [
    "---\n",
    "\n",
    "Propose (and be ready do justify) a probabilistic model for estimating object location from the radar echo. This model must:\n",
    "1. estimate a likely location of the object,\n",
    "1. estimate uncertainty in the (estimated) object location.\n",
    "\n",
    "From working experience with our radar we know that objects are most often located in a sphere with radius $r=3$ centered in the radar plane.\n",
    "\n",
    "---\n",
    "\n",
    "Implement the proposed model in `estimate_location_from_echo` function. The arguments to this function should be:\n",
    "- radar echo,\n",
    "- parameters of the probability distribution that expresses our prior assumptions about object location.\n",
    "\n",
    "`estimate_location_from_echo` should return parameters of the probability distribution that expresses our beliefs about object location after observing one radar echo."
   ]
  },
  {
   "cell_type": "code",
   "execution_count": null,
   "metadata": {},
   "outputs": [],
   "source": [
    "raise Exception('Implement estimate_location_from_echo function and define all needed global variables')\n",
    "\n",
    "# def estimate_location_from_echo( ??? ):\n",
    "#    ..."
   ]
  },
  {
   "cell_type": "markdown",
   "metadata": {},
   "source": [
    "Now, use `estimate_location_from_echo` to estimate object location (and uncertainty). Then use `plot_mvn` function to plot two 'iso-density' plots:\n",
    "- one for our prior assumptions about object location - this should be plotted in `ax[0]` axes,\n",
    "- one for estimated object location and its uncertainty - this should be plotted in `ax[1]` axes and include location of the radar echo."
   ]
  },
  {
   "cell_type": "code",
   "execution_count": null,
   "metadata": {
    "scrolled": false
   },
   "outputs": [],
   "source": [
    "_, ax = plt.subplots(1, 2, figsize=(16,8))\n",
    "\n",
    "raise Exception('Estimate object location and plot the requested iso-density plots')\n",
    "\n"
   ]
  },
  {
   "cell_type": "markdown",
   "metadata": {},
   "source": [
    "## Estimating object location from multiple noisy radar echos\n",
    "\n",
    "Now imagine that we have $N$ radar echos for a single object (we made $N$ independent radar scans). These echos are stored in `radar_echo_n`."
   ]
  },
  {
   "cell_type": "code",
   "execution_count": null,
   "metadata": {
    "collapsed": true
   },
   "outputs": [],
   "source": [
    "N=5\n",
    "\n",
    "radar_echo_n = mvn.rvs(true_x, radar_echo_Sigma, size=N, random_state=1234)"
   ]
  },
  {
   "cell_type": "markdown",
   "metadata": {},
   "source": [
    "Our goal is to estimate object location (and uncertainty) from all these radar scans. One simple option is to iteratively update our beliefs about object location as new echos arrive.\n",
    "\n",
    "That is:\n",
    "- we start with prior assumptions about object location,\n",
    "- we update our beliefs about object location when we observe a radar echo,\n",
    "- once we observe another radar echo, we can treat our current beliefs about object location (estimated above) as prior assumptions,\n",
    "- we can continue in this iterative manner until we accounted for evidence from all observed echos.\n",
    "\n",
    "---\n",
    "\n",
    "Implement the iterative procedure described above to estimate object location (and uncertainty) from all radar echos stored in `radar_echo_n`. Use `estimate_location_from_echo` function for updating beliefs about object location."
   ]
  },
  {
   "cell_type": "code",
   "execution_count": null,
   "metadata": {},
   "outputs": [],
   "source": [
    "raise Exception('Implement the iterative location/uncertainty update procedure described above')\n",
    "\n"
   ]
  },
  {
   "cell_type": "markdown",
   "metadata": {},
   "source": [
    "Use `plot_mvn` function to plot two 'iso-density' plots:\n",
    "- one for prior assumptions about object location - this should be plotted in `ax[0]` axes,\n",
    "- one for estimated object location and its uncertainty - this should be plotted in `ax[1]` axes and include locations of all radar echos stored in `radar_echo_n`."
   ]
  },
  {
   "cell_type": "code",
   "execution_count": null,
   "metadata": {},
   "outputs": [],
   "source": [
    "_, ax = plt.subplots(1, 2, figsize=(16,8))\n",
    "\n",
    "raise Exception('Plot the requested iso-density plots')\n",
    "\n"
   ]
  },
  {
   "cell_type": "markdown",
   "metadata": {},
   "source": [
    "The iterative update procedure implemented above has one drawback - it's not efficient (computationally).\n",
    "\n",
    "If you came up with a sensible probabilistic model it should be possible to derive equations for estimating object location (and uncertainty) from all radar echos (in a single pass). Try to write down these equations and implement them in `estimate_location_from_echo_batch` function. The arguments to this function should be:\n",
    "- radar echos (in a NumPy array),\n",
    "- parameters of the probability distribution that expresses our prior assumptions about object location.\n",
    "\n",
    "`estimate_location_from_echo_batch` should return parameters of the probability distribution that expresses our beliefs about object location after observing all radar echos.\n",
    "\n",
    "---\n",
    "\n",
    "Hint: try to write down parameters of the probability distribution over object location after:\n",
    "- observing one echo, e.g. $e_1$,\n",
    "- then observing another echo, e.g. $e_2$.\n",
    "\n",
    "Guess a form of the batch-update equations from these examples. Then prove by induction that it is correct."
   ]
  },
  {
   "cell_type": "code",
   "execution_count": null,
   "metadata": {},
   "outputs": [],
   "source": [
    "raise Exception('Implement estimate_location_from_echo_batch function')\n",
    "\n",
    "\n",
    "# def estimate_location_from_echo_batch( ??? ):\n",
    "#     ..."
   ]
  },
  {
   "cell_type": "markdown",
   "metadata": {},
   "source": [
    "Use `estimate_location_from_echo_batch` to estimate object location (and uncertainty) from all radar echos.\n",
    "\n",
    "Next, use `plot_mvn` function to make 'iso-density' plots identical to the ones above, but using location and uncertainty estimates from `estimate_location_from_echo_batch`.\n",
    "\n",
    "Verify that estimates from `estimate_location_from_echo_batch` agree with the ones from the iterative update procedure."
   ]
  },
  {
   "cell_type": "code",
   "execution_count": null,
   "metadata": {
    "scrolled": false
   },
   "outputs": [],
   "source": [
    "_, ax = plt.subplots(1, 2, figsize=(16,8))\n",
    "\n",
    "raise Exception('Use estimate_location_from_echo_batch to estimate object location. '\n",
    "                'Then plot the requested iso-density plots')\n",
    "\n"
   ]
  }
 ],
 "metadata": {
  "colab": {
   "collapsed_sections": [],
   "name": "Random.ipynb",
   "provenance": []
  },
  "kernelspec": {
   "display_name": "Python 3 (ipykernel)",
   "language": "python",
   "name": "python3"
  },
  "language_info": {
   "codemirror_mode": {
    "name": "ipython",
    "version": 3
   },
   "file_extension": ".py",
   "mimetype": "text/x-python",
   "name": "python",
   "nbconvert_exporter": "python",
   "pygments_lexer": "ipython3",
   "version": "3.9.12"
  }
 },
 "nbformat": 4,
 "nbformat_minor": 1
}
