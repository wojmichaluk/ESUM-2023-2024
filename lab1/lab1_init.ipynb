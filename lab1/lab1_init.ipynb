{
 "cells": [
  {
   "cell_type": "markdown",
   "metadata": {
    "colab_type": "text",
    "id": "GjLwr7LHju9z"
   },
   "source": [
    "# Monte Carlo introduction to Python, NumPy and Jupyter notebooks"
   ]
  },
  {
   "cell_type": "code",
   "execution_count": null,
   "metadata": {
    "colab": {},
    "colab_type": "code",
    "collapsed": true,
    "id": "Y0Y7HX_yju91",
    "jupyter": {
     "outputs_hidden": true
    }
   },
   "outputs": [],
   "source": [
    "import numpy as np\n",
    "import matplotlib.pyplot as plt\n",
    "import mkl\n",
    "\n",
    "from IPython.display import display, HTML\n",
    "from matplotlib.animation import FuncAnimation\n",
    "\n",
    "np.random.seed(1234)\n",
    "mkl.set_num_threads(2)\n",
    "\n",
    "%matplotlib inline\n",
    "%config InlineBackend.figure_format = 'retina'\n",
    "plt.rcParams[\"figure.figsize\"] = [16, 9]"
   ]
  },
  {
   "cell_type": "markdown",
   "metadata": {
    "colab_type": "text",
    "id": "HgspCXenju94"
   },
   "source": [
    "## Estimating π with Monte Carlo\n",
    "\n",
    "Implement ```sample_points``` function. This function should sample ```count``` points from a $d$-dimensional cube  $[-1, 1]^d$ and return tuple with two NumPy arrays:\n",
    "- the first tuple element should be an array of points that fall inside the $d$ dimensional ball centered at origin and with unit radius,\n",
    "- the second element should be an array with points that fall outside that ball.\n",
    "\n",
    "Point coordinates should be stored row-wise."
   ]
  },
  {
   "cell_type": "code",
   "execution_count": null,
   "metadata": {
    "colab": {},
    "colab_type": "code",
    "collapsed": true,
    "id": "HhM2tDeaju95",
    "jupyter": {
     "outputs_hidden": true
    }
   },
   "outputs": [],
   "source": [
    "def sample_points(count, d):\n",
    "    raise Exception('Unimplemented')\n",
    "    \n",
    "    # points = ???\n",
    "    # radii = ???\n",
    "    # inner = ???\n",
    "    # outer = ???\n",
    "    return inner, outer"
   ]
  },
  {
   "cell_type": "markdown",
   "metadata": {
    "colab_type": "text",
    "id": "L_1PBxodmw0E"
   },
   "source": [
    "Implement ```approx_pi_mc``` function, which uses a draw from ```sample_points``` to estimate the vaue of $\\pi$. Arguments are:\n",
    "- ```sample``` - a tuple returned by ```sample_pints``` with d=2. \n",
    "\n",
    "Note that you can estimate $\\pi$ by approximating the surface area of a $2$-dimensional ball (disc) with a given radius. This is nothing else than approximating the integral of an indicator function over the surface of that ball. Plain Monte Carlo is good at approximating integrals when dimensionality is not overly large."
   ]
  },
  {
   "cell_type": "code",
   "execution_count": null,
   "metadata": {
    "colab": {},
    "colab_type": "code",
    "collapsed": true,
    "id": "MMB5cY-emvxW",
    "jupyter": {
     "outputs_hidden": true
    }
   },
   "outputs": [],
   "source": [
    "def approx_pi_mc(sample):\n",
    "    inner, outer = sample\n",
    "    \n",
    "    raise Exception('Unimplemented')\n",
    "    \n",
    "    # pi_approx = ???\n",
    "    return pi_approx"
   ]
  },
  {
   "cell_type": "markdown",
   "metadata": {
    "colab_type": "text",
    "id": "-0V3MJQlju97"
   },
   "source": [
    "### Visualization"
   ]
  },
  {
   "cell_type": "code",
   "execution_count": null,
   "metadata": {
    "colab": {
     "base_uri": "https://localhost:8080/",
     "height": 700
    },
    "colab_type": "code",
    "id": "wBAUd0mAju99",
    "outputId": "1a582924-be9c-429d-e375-6ea545a130dc"
   },
   "outputs": [],
   "source": [
    "counts = [10 ** i for i in range(1, 7)]\n",
    "\n",
    "figure, axis = plt.subplots(2, 3, figsize=(16, 9))\n",
    "\n",
    "def update(idx):\n",
    "    row, col = idx % 2, idx //2\n",
    "    n = counts[idx]\n",
    "    sample = sample_points(n, 2)\n",
    "    inner, outer = sample\n",
    "\n",
    "    pi = approx_pi_mc(sample)\n",
    "\n",
    "    axis[row][col].set_title(f'size = {n}, $\\pi$ = {pi:.3f}', fontsize = 10)\n",
    "    axis[row][col].scatter(inner[:, 0], inner[:, 1], c='r', s=2)\n",
    "    axis[row][col].scatter(outer[:, 0], outer[:, 1], c='b', s=2)\n",
    "    axis[row][col].set_xlim((-1, 1))\n",
    "    axis[row][col].set_ylim((-1, 1))\n",
    "    axis[row][col].set_xticks([])\n",
    "    axis[row][col].set_yticks([])\n",
    "\n",
    "for i in range(len(counts)):\n",
    "    update(i)\n",
    "\n",
    "plt.show()"
   ]
  },
  {
   "cell_type": "markdown",
   "metadata": {
    "colab_type": "text",
    "id": "YMD_AdEYju-A"
   },
   "source": [
    "## Monte Carlo cont. - what is the ratio between volume of a $d$-dimensional (inscribed) ball and volume of a $d$-dimensional hypercube?\n",
    "\n",
    "Use ```sample_pints``` to estimate the ratio between volume of a $d$-dimensional ball and volume of a $d$-dimensional inscribing hypercube. Use ```ratio_sample_size``` points to estimate that ratio."
   ]
  },
  {
   "cell_type": "code",
   "execution_count": null,
   "metadata": {
    "colab": {},
    "colab_type": "code",
    "collapsed": true,
    "id": "Jrd59TnywOdX",
    "jupyter": {
     "outputs_hidden": true
    }
   },
   "outputs": [],
   "source": [
    "ratio_sample_size = 10000\n",
    "\n",
    "def volume_ratio(d):\n",
    "    raise Exception('Unimplemented')"
   ]
  },
  {
   "cell_type": "markdown",
   "metadata": {},
   "source": [
    "Lets see how that ratio changes with the number of dimensions."
   ]
  },
  {
   "cell_type": "code",
   "execution_count": null,
   "metadata": {
    "colab": {},
    "colab_type": "code",
    "id": "ll5vZqdvju-B",
    "outputId": "ed3242f2-9137-40a2-d51e-e5a465f7ced9"
   },
   "outputs": [],
   "source": [
    "dims = np.arange(1, 50, 1)\n",
    "ratios = np.vectorize(volume_ratio)(dims)\n",
    "\n",
    "figure, axis = plt.subplots(1, 2, figsize=(15, 5))\n",
    "axis[0].grid()\n",
    "axis[0].plot(dims, ratios)\n",
    "axis[1].grid()\n",
    "axis[1].semilogy()\n",
    "axis[1].plot(dims, ratios);"
   ]
  },
  {
   "cell_type": "markdown",
   "metadata": {
    "colab_type": "text",
    "id": "WsnNN6D5ju-E"
   },
   "source": [
    "## Monte Carlo cont. <br> Samplig points uniformly from a $d$-dimensional ball is trivial, right? Not."
   ]
  },
  {
   "cell_type": "markdown",
   "metadata": {},
   "source": [
    "Rejection sampling won't work above approx. 10 dimensions - most samples will fall outside the ball and be rejected. But wait! How about we:\n",
    "- first sample the radius (uniformly),\n",
    "- then sample the direction (i.e. a unit vector from $\\mathbb{R}^d$),\n",
    "- then generate the point by combining radius and direction?."
   ]
  },
  {
   "cell_type": "markdown",
   "metadata": {},
   "source": [
    "Implement ```sample_directions``` function, which returns points sampled randomly from the surface of a $d$-dimensional ball centered at origin and with unit radius. ```sample_directions``` should return an NumPy array, where each row is a sampled point (coordinates)."
   ]
  },
  {
   "cell_type": "code",
   "execution_count": null,
   "metadata": {
    "collapsed": true,
    "jupyter": {
     "outputs_hidden": true
    }
   },
   "outputs": [],
   "source": [
    "def sample_directions(count, d):\n",
    "    raise Exception('Unimplemented')"
   ]
  },
  {
   "cell_type": "markdown",
   "metadata": {},
   "source": [
    "Lets generate some points."
   ]
  },
  {
   "cell_type": "code",
   "execution_count": null,
   "metadata": {
    "colab": {},
    "colab_type": "code",
    "collapsed": true,
    "id": "1tEyVP47ju-E",
    "jupyter": {
     "outputs_hidden": true
    },
    "outputId": "8bcc11bd-dacf-4ab9-89d5-24395d649c0f"
   },
   "outputs": [],
   "source": [
    "sample_size = 5000\n",
    "\n",
    "# First we sample directions:\n",
    "w = sample_directions(sample_size, 2)\n",
    "\n",
    "# Then we sample radii:\n",
    "r = np.random.uniform(low = 0.0, high = 1.0, size = sample_size)\n",
    "\n",
    "# And now we can generate points:\n",
    "ball_samples = w * r.reshape((-1, 1))"
   ]
  },
  {
   "cell_type": "markdown",
   "metadata": {},
   "source": [
    "And plot the distribution."
   ]
  },
  {
   "cell_type": "code",
   "execution_count": null,
   "metadata": {},
   "outputs": [],
   "source": [
    "plt.subplots(figsize=(10, 10))\n",
    "plt.scatter(ball_samples[:, 0], ball_samples[:, 1], s=0.1)\n",
    "plt.plot();"
   ]
  },
  {
   "cell_type": "markdown",
   "metadata": {
    "colab_type": "text",
    "id": "8WUttpErju-H"
   },
   "source": [
    "**Is this a uniform distribution?**\n",
    "\n",
    "Sampling in many dimensions is not always easy - in fact it's often very hard. Latter in the course we will talk about Markov Chain Monte Carlo (MCMC) methods, which are better at sampling from complicated high-dimensional distributions."
   ]
  },
  {
   "cell_type": "markdown",
   "metadata": {
    "colab_type": "text",
    "id": "6GIXby42ju-L"
   },
   "source": [
    "## An exercise - make the coin fair.\n",
    "\n",
    "Lets say we have an unfair coin, which falls heads 90% of times and tails 10% of times."
   ]
  },
  {
   "cell_type": "code",
   "execution_count": null,
   "metadata": {
    "colab": {},
    "colab_type": "code",
    "collapsed": true,
    "id": "OQGn1Outju-L",
    "jupyter": {
     "outputs_hidden": true
    },
    "outputId": "8dd6e5ce-fdfd-4429-f3e3-7eca06c37025"
   },
   "outputs": [],
   "source": [
    "def unfair_coin():\n",
    "    return np.random.choice([0, 1], p=[0.1, 0.9])"
   ]
  },
  {
   "cell_type": "markdown",
   "metadata": {},
   "source": [
    "Your task is to implement ```make_coin_fair``` function which returns unbiased and uncorrelated samples from $\\{0, 1\\}$, each with probability $0.5$.\n",
    "\n",
    "**Note:** the only source of randomness you are allowed to use is ```unfair_coin``` function. Whatever you implement, you should be abl to justify that the returned samples are fair and uncorrelated. "
   ]
  },
  {
   "cell_type": "code",
   "execution_count": null,
   "metadata": {
    "colab": {},
    "colab_type": "code",
    "collapsed": true,
    "id": "pOM9ZgNrju-P",
    "jupyter": {
     "outputs_hidden": true
    }
   },
   "outputs": [],
   "source": [
    "def make_coin_fair():\n",
    "    # No idea so far...\n",
    "    return unfair_coin()"
   ]
  },
  {
   "cell_type": "markdown",
   "metadata": {
    "colab_type": "text",
    "id": "8WoXMGT0ju-S"
   },
   "source": [
    "### Let's see what you did there"
   ]
  },
  {
   "cell_type": "code",
   "execution_count": null,
   "metadata": {
    "colab": {},
    "colab_type": "code",
    "collapsed": true,
    "id": "AqshUoZeju-T",
    "jupyter": {
     "outputs_hidden": true
    },
    "outputId": "0669f61a-cffc-450c-f20a-90d3b4f46cd6"
   },
   "outputs": [],
   "source": [
    "test_size = 5000\n",
    "\n",
    "samples = np.array([make_coin_fair() for i in range(test_size)])\n",
    "heads = np.sum(samples == 1) / samples.shape[0]\n",
    "tails = np.sum(samples == 0) / samples.shape[0]\n",
    "\n",
    "acorr = np.correlate(samples, samples, mode='valid')[0] / test_size"
   ]
  },
  {
   "cell_type": "code",
   "execution_count": null,
   "metadata": {},
   "outputs": [],
   "source": [
    "figure, axis = plt.subplots(figsize=(5, 5))\n",
    "axis.bar([0, 1], [tails, heads])\n",
    "axis.set_xticks([0, 1])\n",
    "axis.set_xticklabels(['tails', 'heads'])\n",
    "\n",
    "display(HTML(f'<h4>(Convolutional) Auto correlation: {acorr}</h4>'))"
   ]
  }
 ],
 "metadata": {
  "colab": {
   "collapsed_sections": [],
   "name": "Random.ipynb",
   "provenance": []
  },
  "kernelspec": {
   "display_name": "Python 3 (ipykernel)",
   "language": "python",
   "name": "python3"
  },
  "language_info": {
   "codemirror_mode": {
    "name": "ipython",
    "version": 3
   },
   "file_extension": ".py",
   "mimetype": "text/x-python",
   "name": "python",
   "nbconvert_exporter": "python",
   "pygments_lexer": "ipython3",
   "version": "3.10.4"
  }
 },
 "nbformat": 4,
 "nbformat_minor": 4
}
